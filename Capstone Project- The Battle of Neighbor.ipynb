{
 "cells": [
  {
   "cell_type": "markdown",
   "metadata": {
    "collapsed": true
   },
   "source": [
    "# Coursera Capstone Project"
   ]
  },
  {
   "cell_type": "markdown",
   "metadata": {},
   "source": [
    "## The Battle of Neighborhoods - Final Report (Week 1)"
   ]
  },
  {
   "cell_type": "markdown",
   "metadata": {},
   "source": [
    "## 1. Introduction Section "
   ]
  },
  {
   "cell_type": "markdown",
   "metadata": {},
   "source": [
    "###   Discussion of the business problem and the audience who would be interested in this project."
   ]
  },
  {
   "cell_type": "markdown",
   "metadata": {},
   "source": [
    "### 1.1 Scenario and Background"
   ]
  },
  {
   "cell_type": "raw",
   "metadata": {},
   "source": [
    "I have more than 20 years of experience in catering. As owner and as manager. This  profession  is important to me and I want to continue in this area. My dream project is to open a franchise of Japanese restaurants. It's a new concept of restaurant without waitress. Food moves on a conveyor to the customer and the customer chooses what he wants to eat. I expect that this concept will be very successful because people here in Toronto love Japanese food.\n",
    "The idea is to open a first franchise of this restaurant in a strategic location in Toronto downtown, deploy the necessary efforts for it's success and then open other franchises in the various boroughs of Toronto.\n"
   ]
  },
  {
   "cell_type": "markdown",
   "metadata": {},
   "source": [
    "### 1.2 Problem to be resolved"
   ]
  },
  {
   "cell_type": "raw",
   "metadata": {},
   "source": [
    "The challenge to resolve is being able to find a place  in Toronto to open my new restaurent with the following conditions:\n",
    "- reasonable rent \n",
    "- located within walking distance from big companies building\n",
    "- Not far from a subway station\n"
   ]
  },
  {
   "cell_type": "markdown",
   "metadata": {},
   "source": [
    "### 1.3 Interested Audience"
   ]
  },
  {
   "cell_type": "raw",
   "metadata": {},
   "source": [
    "I believe this is a relevant project for any person how want to open a restaurant in any city, it will be very interesting for franchises companies. The approach and methodologies used are applicable for all cases."
   ]
  },
  {
   "cell_type": "markdown",
   "metadata": {},
   "source": [
    "## 2. Data Section:"
   ]
  },
  {
   "cell_type": "markdown",
   "metadata": {},
   "source": [
    "### Data Required to resolve the problem"
   ]
  },
  {
   "cell_type": "raw",
   "metadata": {},
   "source": [
    "To do that, I will use the Foursquare API to explore neighborhoods in Toronto. I will use the explore function to get the most common venue categories in each neighborhood, and then use this feature to group the neighborhoods into clusters. I will use the k-means clustering algorithm to complete this task. Finally, I will use csv file to read some information about companies in Toronto."
   ]
  },
  {
   "cell_type": "code",
   "execution_count": null,
   "metadata": {},
   "outputs": [],
   "source": []
  },
  {
   "cell_type": "code",
   "execution_count": null,
   "metadata": {},
   "outputs": [],
   "source": []
  }
 ],
 "metadata": {
  "kernelspec": {
   "display_name": "Python 3.6",
   "language": "python",
   "name": "python3"
  },
  "language_info": {
   "codemirror_mode": {
    "name": "ipython",
    "version": 3
   },
   "file_extension": ".py",
   "mimetype": "text/x-python",
   "name": "python",
   "nbconvert_exporter": "python",
   "pygments_lexer": "ipython3",
   "version": "3.6.8"
  }
 },
 "nbformat": 4,
 "nbformat_minor": 1
}
